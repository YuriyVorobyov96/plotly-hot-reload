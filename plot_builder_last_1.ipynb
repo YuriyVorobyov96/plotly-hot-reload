{
 "cells": [
  {
   "cell_type": "code",
   "execution_count": null,
   "metadata": {},
   "outputs": [
    {
     "name": "stdout",
     "output_type": "stream",
     "text": [
      "Dash is running on http://127.0.0.1:8050/\n",
      "\n",
      " * Serving Flask app \"__main__\" (lazy loading)\n",
      " * Environment: production\n",
      "   WARNING: This is a development server. Do not use it in a production deployment.\n",
      "   Use a production WSGI server instead.\n",
      " * Debug mode: off\n"
     ]
    },
    {
     "name": "stderr",
     "output_type": "stream",
     "text": [
      " * Running on http://127.0.0.1:8050/ (Press CTRL+C to quit)\n",
      "127.0.0.1 - - [31/Oct/2020 10:53:29] \"\u001b[37mGET / HTTP/1.1\u001b[0m\" 200 -\n",
      "127.0.0.1 - - [31/Oct/2020 10:53:29] \"\u001b[37mGET /_dash-layout HTTP/1.1\u001b[0m\" 200 -\n",
      "127.0.0.1 - - [31/Oct/2020 10:53:29] \"\u001b[37mGET /_dash-dependencies HTTP/1.1\u001b[0m\" 200 -\n"
     ]
    },
    {
     "name": "stdout",
     "output_type": "stream",
     "text": [
      "leakage\n",
      "<class 'str'>\n"
     ]
    },
    {
     "name": "stderr",
     "output_type": "stream",
     "text": [
      "127.0.0.1 - - [31/Oct/2020 10:53:31] \"\u001b[37mPOST /_dash-update-component HTTP/1.1\u001b[0m\" 200 -\n"
     ]
    },
    {
     "name": "stdout",
     "output_type": "stream",
     "text": [
      "Data recorded\n",
      "None\n",
      "<class 'NoneType'>\n",
      "None\n",
      "<class 'NoneType'>\n",
      "hum\n",
      "<class 'str'>\n",
      "Data recorded\n",
      "Data recorded\n",
      "Exception on /_dash-update-component [POST]\n",
      "Traceback (most recent call last):\n",
      "  File \"K:\\Programs\\Anaconda\\lib\\site-packages\\pandas\\core\\indexes\\base.py\", line 2657, in get_loc\n",
      "    return self._engine.get_loc(key)\n",
      "  File \"pandas/_libs/index.pyx\", line 108, in pandas._libs.index.IndexEngine.get_loc\n",
      "  File \"pandas/_libs/index.pyx\", line 132, in pandas._libs.index.IndexEngine.get_loc\n",
      "  File \"pandas/_libs/hashtable_class_helper.pxi\", line 1601, in pandas._libs.hashtable.PyObjectHashTable.get_item\n",
      "  File \"pandas/_libs/hashtable_class_helper.pxi\", line 1608, in pandas._libs.hashtable.PyObjectHashTable.get_item\n",
      "KeyError: None\n",
      "\n",
      "During handling of the above exception, another exception occurred:\n",
      "\n",
      "Traceback (most recent call last):\n",
      "  File \"K:\\Programs\\Anaconda\\lib\\site-packages\\flask\\app.py\", line 2446, in wsgi_app\n",
      "    response = self.full_dispatch_request()\n",
      "  File \"K:\\Programs\\Anaconda\\lib\\site-packages\\flask\\app.py\", line 1951, in full_dispatch_request\n",
      "    rv = self.handle_user_exception(e)\n",
      "  File \"K:\\Programs\\Anaconda\\lib\\site-packages\\flask\\app.py\", line 1820, in handle_user_exception\n",
      "    reraise(exc_type, exc_value, tb)\n",
      "  File \"K:\\Programs\\Anaconda\\lib\\site-packages\\flask\\_compat.py\", line 39, in reraise\n",
      "    raise value\n",
      "  File \"K:\\Programs\\Anaconda\\lib\\site-packages\\flask\\app.py\", line 1949, in full_dispatch_request\n",
      "    rv = self.dispatch_request()\n",
      "  File \"K:\\Programs\\Anaconda\\lib\\site-packages\\flask\\app.py\", line 1935, in dispatch_request\n",
      "    return self.view_functions[rule.endpoint](**req.view_args)\n",
      "  File \"K:\\Programs\\Anaconda\\lib\\site-packages\\dash\\dash.py\", line 1072, in dispatch\n",
      "    response.set_data(func(*args, outputs_list=outputs_list))\n",
      "  File \"K:\\Programs\\Anaconda\\lib\\site-packages\\dash\\dash.py\", line 1007, in add_context\n",
      "    output_value = func(*args, **kwargs)  # %% callback invoked %%\n",
      "  File \"<ipython-input-1-790057dd8f93>\", line 100, in update_graph\n",
      "    y=df[option_slctd],\n",
      "  File \"K:\\Programs\\Anaconda\\lib\\site-packages\\pandas\\core\\frame.py\", line 2927, in __getitem__\n",
      "    indexer = self.columns.get_loc(key)\n",
      "  File \"K:\\Programs\\Anaconda\\lib\\site-packages\\pandas\\core\\indexes\\base.py\", line 2659, in get_loc\n",
      "    return self._engine.get_loc(self._maybe_cast_indexer(key))\n",
      "  File \"pandas/_libs/index.pyx\", line 108, in pandas._libs.index.IndexEngine.get_loc\n",
      "  File \"pandas/_libs/index.pyx\", line 132, in pandas._libs.index.IndexEngine.get_loc\n",
      "  File \"pandas/_libs/hashtable_class_helper.pxi\", line 1601, in pandas._libs.hashtable.PyObjectHashTable.get_item\n",
      "  File \"pandas/_libs/hashtable_class_helper.pxi\", line 1608, in pandas._libs.hashtable.PyObjectHashTable.get_item\n",
      "KeyError: None\n"
     ]
    },
    {
     "name": "stderr",
     "output_type": "stream",
     "text": [
      "127.0.0.1 - - [31/Oct/2020 10:53:34] \"\u001b[35m\u001b[1mPOST /_dash-update-component HTTP/1.1\u001b[0m\" 500 -\n"
     ]
    },
    {
     "name": "stdout",
     "output_type": "stream",
     "text": [
      "Exception on /_dash-update-component [POST]\n",
      "Traceback (most recent call last):\n",
      "  File \"K:\\Programs\\Anaconda\\lib\\site-packages\\pandas\\core\\indexes\\base.py\", line 2657, in get_loc\n",
      "    return self._engine.get_loc(key)\n",
      "  File \"pandas/_libs/index.pyx\", line 108, in pandas._libs.index.IndexEngine.get_loc\n",
      "  File \"pandas/_libs/index.pyx\", line 132, in pandas._libs.index.IndexEngine.get_loc\n",
      "  File \"pandas/_libs/hashtable_class_helper.pxi\", line 1601, in pandas._libs.hashtable.PyObjectHashTable.get_item\n",
      "  File \"pandas/_libs/hashtable_class_helper.pxi\", line 1608, in pandas._libs.hashtable.PyObjectHashTable.get_item\n",
      "KeyError: None\n",
      "\n",
      "During handling of the above exception, another exception occurred:\n",
      "\n",
      "Traceback (most recent call last):\n",
      "  File \"K:\\Programs\\Anaconda\\lib\\site-packages\\flask\\app.py\", line 2446, in wsgi_app\n",
      "    response = self.full_dispatch_request()\n",
      "  File \"K:\\Programs\\Anaconda\\lib\\site-packages\\flask\\app.py\", line 1951, in full_dispatch_request\n",
      "    rv = self.handle_user_exception(e)\n",
      "  File \"K:\\Programs\\Anaconda\\lib\\site-packages\\flask\\app.py\", line 1820, in handle_user_exception\n",
      "    reraise(exc_type, exc_value, tb)\n",
      "  File \"K:\\Programs\\Anaconda\\lib\\site-packages\\flask\\_compat.py\", line 39, in reraise\n",
      "    raise value\n",
      "  File \"K:\\Programs\\Anaconda\\lib\\site-packages\\flask\\app.py\", line 1949, in full_dispatch_request\n",
      "    rv = self.dispatch_request()\n",
      "  File \"K:\\Programs\\Anaconda\\lib\\site-packages\\flask\\app.py\", line 1935, in dispatch_request\n",
      "    return self.view_functions[rule.endpoint](**req.view_args)\n",
      "  File \"K:\\Programs\\Anaconda\\lib\\site-packages\\dash\\dash.py\", line 1072, in dispatch\n",
      "    response.set_data(func(*args, outputs_list=outputs_list))\n",
      "  File \"K:\\Programs\\Anaconda\\lib\\site-packages\\dash\\dash.py\", line 1007, in add_context\n",
      "    output_value = func(*args, **kwargs)  # %% callback invoked %%\n",
      "  File \"<ipython-input-1-790057dd8f93>\", line 100, in update_graph\n",
      "    y=df[option_slctd],\n",
      "  File \"K:\\Programs\\Anaconda\\lib\\site-packages\\pandas\\core\\frame.py\", line 2927, in __getitem__\n",
      "    indexer = self.columns.get_loc(key)\n",
      "  File \"K:\\Programs\\Anaconda\\lib\\site-packages\\pandas\\core\\indexes\\base.py\", line 2659, in get_loc\n",
      "    return self._engine.get_loc(self._maybe_cast_indexer(key))\n",
      "  File \"pandas/_libs/index.pyx\", line 108, in pandas._libs.index.IndexEngine.get_loc\n",
      "  File \"pandas/_libs/index.pyx\", line 132, in pandas._libs.index.IndexEngine.get_loc\n",
      "  File \"pandas/_libs/hashtable_class_helper.pxi\", line 1601, in pandas._libs.hashtable.PyObjectHashTable.get_item\n",
      "  File \"pandas/_libs/hashtable_class_helper.pxi\", line 1608, in pandas._libs.hashtable.PyObjectHashTable.get_item\n",
      "KeyError: None\n"
     ]
    },
    {
     "name": "stderr",
     "output_type": "stream",
     "text": [
      "127.0.0.1 - - [31/Oct/2020 10:53:34] \"\u001b[35m\u001b[1mPOST /_dash-update-component HTTP/1.1\u001b[0m\" 500 -\n"
     ]
    },
    {
     "name": "stdout",
     "output_type": "stream",
     "text": [
      "hum\n",
      "<class 'str'>\n"
     ]
    },
    {
     "name": "stderr",
     "output_type": "stream",
     "text": [
      "127.0.0.1 - - [31/Oct/2020 10:53:36] \"\u001b[37mPOST /_dash-update-component HTTP/1.1\u001b[0m\" 200 -\n"
     ]
    },
    {
     "name": "stdout",
     "output_type": "stream",
     "text": [
      "Data recorded\n"
     ]
    },
    {
     "name": "stderr",
     "output_type": "stream",
     "text": [
      "127.0.0.1 - - [31/Oct/2020 10:53:37] \"\u001b[37mPOST /_dash-update-component HTTP/1.1\u001b[0m\" 200 -\n"
     ]
    },
    {
     "name": "stdout",
     "output_type": "stream",
     "text": [
      "Data recorded\n",
      "hum\n",
      "<class 'str'>\n"
     ]
    },
    {
     "name": "stderr",
     "output_type": "stream",
     "text": [
      "127.0.0.1 - - [31/Oct/2020 10:53:40] \"\u001b[37mPOST /_dash-update-component HTTP/1.1\u001b[0m\" 200 -\n"
     ]
    },
    {
     "name": "stdout",
     "output_type": "stream",
     "text": [
      "Data recorded\n"
     ]
    }
   ],
   "source": [
    "import pandas as pd\n",
    "import numpy as np\n",
    "import time\n",
    "import plotly.graph_objects as go\n",
    "import datetime\n",
    "import dash\n",
    "import dash_core_components as dcc\n",
    "import dash_html_components as html\n",
    "from dash.dependencies import Input, Output\n",
    "\n",
    "random_values = []\n",
    "\n",
    "def rescale(value, old_min, old_max, new_min, new_max):\n",
    "    rescaled = (((value - old_min) * (new_max - new_min)) / (old_max - old_min)) + new_min\n",
    "    return rescaled\n",
    "\n",
    "app = dash.Dash(__name__)\n",
    "\n",
    "df = pd.read_csv('sensor_readings.csv')\n",
    "\n",
    "app.layout = html.Div([\n",
    "\n",
    "    # хедер\n",
    "    html.H1('Панель мониторинга показаний датчиков', style={'text-align': 'center'}),\n",
    "\n",
    "    dcc.Dropdown(id='slct_sensor',\n",
    "                 options=[\n",
    "                     {'label': 'Датчик контроля протечек', 'value': 'leakage'},\n",
    "                     {'label': 'Датчик задымления', 'value': 'smoke'},\n",
    "                     {'label': 'Датчик утечки газа', 'value': 'gas'},\n",
    "                     {'label': 'Датчик температуры', 'value': 'temp'},\n",
    "                     {'label': 'Датчик влажности воздуха', 'value': 'hum'},\n",
    "                     {'label': 'Датчик движения', 'value': 'motion'},\n",
    "                     {'label': 'Датчик открытия окон и дверей', 'value': 'open'},\n",
    "                 ],\n",
    "                 multi=False,\n",
    "                 value='leakage',\n",
    "                 style={'width': '40%'}\n",
    "                 ),\n",
    "\n",
    "    dcc.Interval(id='interval', interval=3 * 1000, n_intervals=0),\n",
    "    html.Div(id='output_container', children=[]),\n",
    "    html.Br(),\n",
    "    dcc.Graph(id='sensors_info', figure={})\n",
    "])\n",
    "\n",
    "@app.callback(\n",
    "    [Output(component_id='output_container', component_property='children'),\n",
    "     Output(component_id='sensors_info', component_property='figure')],\n",
    "    [Input(component_id='slct_sensor', component_property='value'),\n",
    "     Input('interval', 'n_intervals')]\n",
    ")\n",
    "def update_graph(option_slctd, times_clicked):\n",
    "    print(option_slctd)\n",
    "    print(type(option_slctd))\n",
    "\n",
    "    container = 'Выбранный датчик: {}'.format(option_slctd)\n",
    "    \n",
    "    time.sleep(2)\n",
    "\n",
    "    leakage_sensor = np.random.binomial(10,0.5)\n",
    "    leakage_sensor = rescale(leakage_sensor, 0, 10, 0, 1)\n",
    "    leakage_sensor_1 = round(leakage_sensor)\n",
    "    smoke_sensor = np.random.gumbel(0,1)\n",
    "    smoke_sensor = rescale(smoke_sensor, -5, 6, 0, 1)\n",
    "    smoke_sensor_1 = round(smoke_sensor)\n",
    "    gas_leak_sensor = np.random.laplace(loc=0.0, scale=1.0, size=None)\n",
    "    gas_leak_sensor = rescale(gas_leak_sensor, -5, 5, 0, 50)\n",
    "    temp_sensor = np.random.power(0.7)\n",
    "    temp_sensor = rescale(temp_sensor, 0, 1, 0, 50)\n",
    "    humidity_sensor = np.random.uniform(0, 100)\n",
    "    motion_sensor = np.random.weibull(2)\n",
    "    motion_sensor = rescale(motion_sensor, 0, 3, 0, 1)\n",
    "    motion_sensor_1 = round(motion_sensor)\n",
    "    opening_sensor = np.random.normal(100, 10)\n",
    "    opening_sensor = rescale(opening_sensor, 70, 120, 0, 1)\n",
    "    opening_sensor_1 = round(opening_sensor)\n",
    "    \n",
    "    csv_data = datetime.datetime.now()\n",
    "\n",
    "    random_values.append([\n",
    "        csv_data,\n",
    "        leakage_sensor_1,\n",
    "        smoke_sensor_1,\n",
    "        gas_leak_sensor,\n",
    "        temp_sensor,\n",
    "        humidity_sensor,\n",
    "        motion_sensor_1,\n",
    "        opening_sensor_1,\n",
    "    ])\n",
    "\n",
    "    frame = pd.DataFrame(random_values, columns=['datatime', 'leakage', 'smoke', 'gas', 'temp', 'hum', 'motion', 'open'])\n",
    "    frame.to_csv('sensor_readings.csv', index=False)\n",
    "\n",
    "    print('Data recorded')\n",
    "    \n",
    "    df = pd.read_csv('sensor_readings.csv')\n",
    "    \n",
    "    trace = go.Scatter(\n",
    "        y=df[option_slctd],\n",
    "        x=df['datatime'],\n",
    "        name='lines+markers'\n",
    "     )\n",
    "    \n",
    "    fig = go.Figure(trace)\n",
    "\n",
    "    return container, fig\n",
    "\n",
    "if __name__ == '__main__':\n",
    "    app.run_server()"
   ]
  },
  {
   "cell_type": "code",
   "execution_count": null,
   "metadata": {},
   "outputs": [],
   "source": []
  }
 ],
 "metadata": {
  "kernelspec": {
   "display_name": "Python 3",
   "language": "python",
   "name": "python3"
  },
  "language_info": {
   "codemirror_mode": {
    "name": "ipython",
    "version": 3
   },
   "file_extension": ".py",
   "mimetype": "text/x-python",
   "name": "python",
   "nbconvert_exporter": "python",
   "pygments_lexer": "ipython3",
   "version": "3.7.3"
  }
 },
 "nbformat": 4,
 "nbformat_minor": 2
}
