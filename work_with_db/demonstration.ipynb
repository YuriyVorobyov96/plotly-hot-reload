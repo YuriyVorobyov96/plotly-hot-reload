{
 "cells": [
  {
   "cell_type": "code",
   "execution_count": null,
   "metadata": {},
   "outputs": [
    {
     "name": "stdout",
     "output_type": "stream",
     "text": [
      "Dash is running on http://127.0.0.1:8050/\n",
      "\n",
      " * Serving Flask app \"__main__\" (lazy loading)\n",
      " * Environment: production\n",
      "   WARNING: This is a development server. Do not use it in a production deployment.\n",
      "   Use a production WSGI server instead.\n",
      " * Debug mode: off\n"
     ]
    },
    {
     "name": "stderr",
     "output_type": "stream",
     "text": [
      " * Running on http://127.0.0.1:8050/ (Press CTRL+C to quit)\n",
      "127.0.0.1 - - [09/Dec/2020 21:14:54] \"\u001b[37mGET / HTTP/1.1\u001b[0m\" 200 -\n",
      "127.0.0.1 - - [09/Dec/2020 21:14:54] \"\u001b[37mGET /_dash-layout HTTP/1.1\u001b[0m\" 200 -\n",
      "127.0.0.1 - - [09/Dec/2020 21:14:54] \"\u001b[37mGET /_dash-dependencies HTTP/1.1\u001b[0m\" 200 -\n",
      "127.0.0.1 - - [09/Dec/2020 21:14:55] \"\u001b[37mPOST /_dash-update-component HTTP/1.1\u001b[0m\" 200 -\n"
     ]
    },
    {
     "name": "stdout",
     "output_type": "stream",
     "text": [
      "leakage\n",
      "                     datatime leakage smoke                 gas  \\\n",
      "0  2020-12-09 21:14:42.133973       0     1   14.17972136955521   \n",
      "1  2020-12-09 21:14:47.146527       0     1  26.317224615033275   \n",
      "2  2020-12-09 21:14:52.153756       1     1   35.77992756265241   \n",
      "\n",
      "                 temp                 hum motion open  \n",
      "0   2.230557365967088  53.758623558804395      0    0  \n",
      "1   26.25769091661432   84.43655956228257      1    1  \n",
      "2  10.077936129011798    92.5045364574046      0    1  \n"
     ]
    },
    {
     "name": "stderr",
     "output_type": "stream",
     "text": [
      "127.0.0.1 - - [09/Dec/2020 21:14:55] \"\u001b[37mGET /_favicon.ico?v=1.16.3 HTTP/1.1\u001b[0m\" 200 -\n",
      "127.0.0.1 - - [09/Dec/2020 21:14:58] \"\u001b[37mPOST /_dash-update-component HTTP/1.1\u001b[0m\" 200 -\n"
     ]
    },
    {
     "name": "stdout",
     "output_type": "stream",
     "text": [
      "leakage\n",
      "                     datatime leakage smoke                 gas  \\\n",
      "0  2020-12-09 21:14:42.133973       0     1   14.17972136955521   \n",
      "1  2020-12-09 21:14:47.146527       0     1  26.317224615033275   \n",
      "2  2020-12-09 21:14:52.153756       1     1   35.77992756265241   \n",
      "3  2020-12-09 21:14:57.166557       1     1   32.67100229637075   \n",
      "\n",
      "                 temp                 hum motion open  \n",
      "0   2.230557365967088  53.758623558804395      0    0  \n",
      "1   26.25769091661432   84.43655956228257      1    1  \n",
      "2  10.077936129011798    92.5045364574046      0    1  \n",
      "3  15.640299829609559   73.69875301189705      0    1  \n"
     ]
    },
    {
     "name": "stderr",
     "output_type": "stream",
     "text": [
      "127.0.0.1 - - [09/Dec/2020 21:15:01] \"\u001b[37mPOST /_dash-update-component HTTP/1.1\u001b[0m\" 200 -\n"
     ]
    },
    {
     "name": "stdout",
     "output_type": "stream",
     "text": [
      "leakage\n",
      "                     datatime leakage smoke                 gas  \\\n",
      "0  2020-12-09 21:14:42.133973       0     1   14.17972136955521   \n",
      "1  2020-12-09 21:14:47.146527       0     1  26.317224615033275   \n",
      "2  2020-12-09 21:14:52.153756       1     1   35.77992756265241   \n",
      "3  2020-12-09 21:14:57.166557       1     1   32.67100229637075   \n",
      "\n",
      "                 temp                 hum motion open  \n",
      "0   2.230557365967088  53.758623558804395      0    0  \n",
      "1   26.25769091661432   84.43655956228257      1    1  \n",
      "2  10.077936129011798    92.5045364574046      0    1  \n",
      "3  15.640299829609559   73.69875301189705      0    1  \n"
     ]
    },
    {
     "name": "stderr",
     "output_type": "stream",
     "text": [
      "127.0.0.1 - - [09/Dec/2020 21:15:04] \"\u001b[37mPOST /_dash-update-component HTTP/1.1\u001b[0m\" 200 -\n"
     ]
    },
    {
     "name": "stdout",
     "output_type": "stream",
     "text": [
      "leakage\n",
      "                     datatime leakage smoke                 gas  \\\n",
      "0  2020-12-09 21:14:42.133973       0     1   14.17972136955521   \n",
      "1  2020-12-09 21:14:47.146527       0     1  26.317224615033275   \n",
      "2  2020-12-09 21:14:52.153756       1     1   35.77992756265241   \n",
      "3  2020-12-09 21:14:57.166557       1     1   32.67100229637075   \n",
      "4  2020-12-09 21:15:02.176319       0     0   22.84668781682603   \n",
      "\n",
      "                 temp                 hum motion open  \n",
      "0   2.230557365967088  53.758623558804395      0    0  \n",
      "1   26.25769091661432   84.43655956228257      1    1  \n",
      "2  10.077936129011798    92.5045364574046      0    1  \n",
      "3  15.640299829609559   73.69875301189705      0    1  \n",
      "4  13.645403468191814  27.600942854816545      0    0  \n"
     ]
    }
   ],
   "source": [
    "import pandas as pd\n",
    "import plotly.express as px\n",
    "import plotly.graph_objects as go\n",
    "\n",
    "import dash\n",
    "import dash_core_components as dcc\n",
    "import dash_html_components as html\n",
    "from dash.dependencies import Input, Output\n",
    "import sqlite3\n",
    "import rsa_decoder\n",
    "\n",
    "app = dash.Dash(__name__)\n",
    "\n",
    "connection = sqlite3.connect('shows.db', check_same_thread=False)\n",
    "cursor = connection.cursor()\n",
    "\n",
    "number_of_sensors = 7\n",
    "\n",
    "# df = pd.read_csv('./new_csv_export.csv')\n",
    "\n",
    "app.layout = html.Div([\n",
    "\n",
    "    html.H1('Web Application Dashboards For Sensors', style={'text-align': 'center'}),\n",
    "\n",
    "    dcc.Dropdown(id='slct_sensor',\n",
    "                 options=[\n",
    "                     {'label': 'Датчик контроля протечек', 'value': 'leakage'},\n",
    "                     {'label': 'Датчик задымления', 'value': 'smoke'},\n",
    "                     {'label': 'Датчик утечки газа', 'value': 'gas'},\n",
    "                     {'label': 'Датчик температуры', 'value': 'temp'},\n",
    "                     {'label': 'Датчик влажности воздуха', 'value': 'hum'},\n",
    "                     {'label': 'Датчик движения', 'value': 'motion'},\n",
    "                     {'label': 'Датчик открытия окон и дверей', 'value': 'open'},\n",
    "                 ],\n",
    "                 multi=False,\n",
    "                 value='leakage',\n",
    "                 style={'width': '40%'}\n",
    "                 ),\n",
    "\n",
    "    dcc.Interval(id='interval', interval=3 * 1000, n_intervals=0),\n",
    "    html.Div(id='output_container', children=[]),\n",
    "    html.Br(),\n",
    "\n",
    "    dcc.Graph(id='sensors_info', figure={})\n",
    "\n",
    "])\n",
    "\n",
    "\n",
    "# ------------------------------------------------------------------------------\n",
    "@app.callback(\n",
    "    [Output(component_id='output_container', component_property='children'),\n",
    "     Output(component_id='sensors_info', component_property='figure')],\n",
    "    [Input(component_id='slct_sensor', component_property='value'),\n",
    "     Input('interval', 'n_intervals')]\n",
    ")\n",
    "def update_graph(option_slctd, times_clicked):\n",
    "    print(option_slctd)\n",
    "\n",
    "    container = 'The sensor chosen by user was: {}'.format(option_slctd)\n",
    "    \n",
    "    cursor.execute(\"SELECT * FROM Shows\")\n",
    "    data_from_db = cursor.fetchall()\n",
    "    \n",
    "    values = []\n",
    "    \n",
    "    for i in range(len(data_from_db)):\n",
    "        data_from_db_as_list = list(data_from_db[i])\n",
    "        data_list = []\n",
    "        for j in range(len(data_from_db_as_list)):\n",
    "            data = rsa_decoder.decode(data_from_db_as_list[j])\n",
    "            data_list.append(data)\n",
    "        values.append(data_list)\n",
    "    \n",
    "    df = pd.DataFrame(values, columns=['datatime', 'leakage', 'smoke', 'gas', 'temp', 'hum', 'motion', 'open'])\n",
    "\n",
    "    trace = go.Scatter(\n",
    "        y=df[option_slctd],\n",
    "        x=df['datatime'],\n",
    "        name='lines+markers'\n",
    "    )\n",
    "\n",
    "    fig = go.Figure(trace)\n",
    "\n",
    "    return container, fig\n",
    "\n",
    "\n",
    "if __name__ == '__main__':\n",
    "    app.run_server()\n"
   ]
  },
  {
   "cell_type": "code",
   "execution_count": null,
   "metadata": {},
   "outputs": [],
   "source": []
  }
 ],
 "metadata": {
  "kernelspec": {
   "display_name": "Python 3",
   "language": "python",
   "name": "python3"
  },
  "language_info": {
   "codemirror_mode": {
    "name": "ipython",
    "version": 3
   },
   "file_extension": ".py",
   "mimetype": "text/x-python",
   "name": "python",
   "nbconvert_exporter": "python",
   "pygments_lexer": "ipython3",
   "version": "3.7.3"
  }
 },
 "nbformat": 4,
 "nbformat_minor": 2
}
